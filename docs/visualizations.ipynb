{
 "cells": [
  {
   "cell_type": "code",
   "execution_count": null,
   "id": "c763c3a7",
   "metadata": {},
   "outputs": [],
   "source": [
    "import pandas as pd\n",
    "import numpy as np\n",
    "import matplotlib.pyplot as plt"
   ]
  },
  {
   "cell_type": "code",
   "execution_count": null,
   "id": "71a6c776",
   "metadata": {},
   "outputs": [],
   "source": [
    "bst = pd.read_csv(\"dados_bst.csv\")\n",
    "avl = pd.read_csv(\"dados_avl.csv\")\n",
    "# rbt = pd.read_csv(\"dados_rbt.csv\")"
   ]
  },
  {
   "cell_type": "code",
   "execution_count": null,
   "id": "392716e8",
   "metadata": {},
   "outputs": [],
   "source": [
    "for col_name in bst.columns[1:]:\n",
    "    plt.plot(bst[\"N_docs\"], bst[col_name])\n",
    "    plt.plot(avl[\"N_docs\"], avl[col_name])\n",
    "    # plt.plot(rbt[\"N_docs\"], rbt[col_name])\n",
    "    plt.show()"
   ]
  }
 ],
 "metadata": {
  "kernelspec": {
   "display_name": "Python 3",
   "language": "python",
   "name": "python3"
  },
  "language_info": {
   "name": "python",
   "version": "3.12.2"
  }
 },
 "nbformat": 4,
 "nbformat_minor": 5
}
